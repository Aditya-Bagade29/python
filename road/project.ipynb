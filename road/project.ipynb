{
 "cells": [
  {
   "cell_type": "markdown",
   "id": "fe2c943e",
   "metadata": {},
   "source": [
    "# Road accident analysis\n",
    "\n"
   ]
  },
  {
   "cell_type": "markdown",
   "id": "e50d835e",
   "metadata": {},
   "source": [
    "Dataset Info:- sample dataset containing road accident analysis it showing the whih type of accidents and \n",
    "               all information about accident"
   ]
  },
  {
   "cell_type": "code",
   "execution_count": 4,
   "id": "d6142d10",
   "metadata": {},
   "outputs": [],
   "source": [
    "import pandas as pd\n",
    "import numpy as np\n",
    "import matplotlib.pyplot as plt\n",
    "import seaborn as sns"
   ]
  },
  {
   "cell_type": "markdown",
   "id": "8d8dd4d4",
   "metadata": {},
   "source": [
    "\"LOAD THE DATABASE FILE\""
   ]
  },
  {
   "cell_type": "code",
   "execution_count": 5,
   "id": "380808ab",
   "metadata": {},
   "outputs": [
    {
     "data": {
      "text/html": [
       "<div>\n",
       "<style scoped>\n",
       "    .dataframe tbody tr th:only-of-type {\n",
       "        vertical-align: middle;\n",
       "    }\n",
       "\n",
       "    .dataframe tbody tr th {\n",
       "        vertical-align: top;\n",
       "    }\n",
       "\n",
       "    .dataframe thead th {\n",
       "        text-align: right;\n",
       "    }\n",
       "</style>\n",
       "<table border=\"1\" class=\"dataframe\">\n",
       "  <thead>\n",
       "    <tr style=\"text-align: right;\">\n",
       "      <th></th>\n",
       "      <th>Time</th>\n",
       "      <th>Day_of_week</th>\n",
       "      <th>Age_band_of_driver</th>\n",
       "      <th>Gender_of_driver</th>\n",
       "      <th>Educational_level</th>\n",
       "      <th>Vehicle_driver_relation</th>\n",
       "      <th>Driving_experience</th>\n",
       "      <th>Type_of_vehicle</th>\n",
       "      <th>Owner_of_vehicle</th>\n",
       "      <th>Service_year_of_vehicle</th>\n",
       "      <th>...</th>\n",
       "      <th>Vehicle_movement</th>\n",
       "      <th>Casualty_class</th>\n",
       "      <th>Gender_of_casualty</th>\n",
       "      <th>Age_band_of_casualty</th>\n",
       "      <th>Casualty_severity</th>\n",
       "      <th>Work_of_casuality</th>\n",
       "      <th>Fitness_of_casuality</th>\n",
       "      <th>Pedestrian_movement</th>\n",
       "      <th>Cause_of_accident</th>\n",
       "      <th>Accident_severity</th>\n",
       "    </tr>\n",
       "  </thead>\n",
       "  <tbody>\n",
       "    <tr>\n",
       "      <th>0</th>\n",
       "      <td>17:02:00</td>\n",
       "      <td>Monday</td>\n",
       "      <td>18-30</td>\n",
       "      <td>Male</td>\n",
       "      <td>Above high school</td>\n",
       "      <td>Employee</td>\n",
       "      <td>1-2yr</td>\n",
       "      <td>Automobile</td>\n",
       "      <td>Owner</td>\n",
       "      <td>Above 10yr</td>\n",
       "      <td>...</td>\n",
       "      <td>Going straight</td>\n",
       "      <td>na</td>\n",
       "      <td>na</td>\n",
       "      <td>na</td>\n",
       "      <td>na</td>\n",
       "      <td>NaN</td>\n",
       "      <td>NaN</td>\n",
       "      <td>Not a Pedestrian</td>\n",
       "      <td>Moving Backward</td>\n",
       "      <td>Slight Injury</td>\n",
       "    </tr>\n",
       "    <tr>\n",
       "      <th>1</th>\n",
       "      <td>17:02:00</td>\n",
       "      <td>Monday</td>\n",
       "      <td>31-50</td>\n",
       "      <td>Male</td>\n",
       "      <td>Junior high school</td>\n",
       "      <td>Employee</td>\n",
       "      <td>Above 10yr</td>\n",
       "      <td>Public (&gt; 45 seats)</td>\n",
       "      <td>Owner</td>\n",
       "      <td>5-10yrs</td>\n",
       "      <td>...</td>\n",
       "      <td>Going straight</td>\n",
       "      <td>na</td>\n",
       "      <td>na</td>\n",
       "      <td>na</td>\n",
       "      <td>na</td>\n",
       "      <td>NaN</td>\n",
       "      <td>NaN</td>\n",
       "      <td>Not a Pedestrian</td>\n",
       "      <td>Overtaking</td>\n",
       "      <td>Slight Injury</td>\n",
       "    </tr>\n",
       "    <tr>\n",
       "      <th>2</th>\n",
       "      <td>17:02:00</td>\n",
       "      <td>Monday</td>\n",
       "      <td>18-30</td>\n",
       "      <td>Male</td>\n",
       "      <td>Junior high school</td>\n",
       "      <td>Employee</td>\n",
       "      <td>1-2yr</td>\n",
       "      <td>Lorry (41?100Q)</td>\n",
       "      <td>Owner</td>\n",
       "      <td>NaN</td>\n",
       "      <td>...</td>\n",
       "      <td>Going straight</td>\n",
       "      <td>Driver or rider</td>\n",
       "      <td>Male</td>\n",
       "      <td>31-50</td>\n",
       "      <td>3</td>\n",
       "      <td>Driver</td>\n",
       "      <td>NaN</td>\n",
       "      <td>Not a Pedestrian</td>\n",
       "      <td>Changing lane to the left</td>\n",
       "      <td>Serious Injury</td>\n",
       "    </tr>\n",
       "    <tr>\n",
       "      <th>3</th>\n",
       "      <td>1:06:00</td>\n",
       "      <td>Sunday</td>\n",
       "      <td>18-30</td>\n",
       "      <td>Male</td>\n",
       "      <td>Junior high school</td>\n",
       "      <td>Employee</td>\n",
       "      <td>5-10yr</td>\n",
       "      <td>Public (&gt; 45 seats)</td>\n",
       "      <td>Governmental</td>\n",
       "      <td>NaN</td>\n",
       "      <td>...</td>\n",
       "      <td>Going straight</td>\n",
       "      <td>Pedestrian</td>\n",
       "      <td>Female</td>\n",
       "      <td>18-30</td>\n",
       "      <td>3</td>\n",
       "      <td>Driver</td>\n",
       "      <td>Normal</td>\n",
       "      <td>Not a Pedestrian</td>\n",
       "      <td>Changing lane to the right</td>\n",
       "      <td>Slight Injury</td>\n",
       "    </tr>\n",
       "    <tr>\n",
       "      <th>4</th>\n",
       "      <td>1:06:00</td>\n",
       "      <td>Sunday</td>\n",
       "      <td>18-30</td>\n",
       "      <td>Male</td>\n",
       "      <td>Junior high school</td>\n",
       "      <td>Employee</td>\n",
       "      <td>2-5yr</td>\n",
       "      <td>NaN</td>\n",
       "      <td>Owner</td>\n",
       "      <td>5-10yrs</td>\n",
       "      <td>...</td>\n",
       "      <td>Going straight</td>\n",
       "      <td>na</td>\n",
       "      <td>na</td>\n",
       "      <td>na</td>\n",
       "      <td>na</td>\n",
       "      <td>NaN</td>\n",
       "      <td>NaN</td>\n",
       "      <td>Not a Pedestrian</td>\n",
       "      <td>Overtaking</td>\n",
       "      <td>Slight Injury</td>\n",
       "    </tr>\n",
       "    <tr>\n",
       "      <th>...</th>\n",
       "      <td>...</td>\n",
       "      <td>...</td>\n",
       "      <td>...</td>\n",
       "      <td>...</td>\n",
       "      <td>...</td>\n",
       "      <td>...</td>\n",
       "      <td>...</td>\n",
       "      <td>...</td>\n",
       "      <td>...</td>\n",
       "      <td>...</td>\n",
       "      <td>...</td>\n",
       "      <td>...</td>\n",
       "      <td>...</td>\n",
       "      <td>...</td>\n",
       "      <td>...</td>\n",
       "      <td>...</td>\n",
       "      <td>...</td>\n",
       "      <td>...</td>\n",
       "      <td>...</td>\n",
       "      <td>...</td>\n",
       "      <td>...</td>\n",
       "    </tr>\n",
       "    <tr>\n",
       "      <th>12311</th>\n",
       "      <td>16:15:00</td>\n",
       "      <td>Wednesday</td>\n",
       "      <td>31-50</td>\n",
       "      <td>Male</td>\n",
       "      <td>NaN</td>\n",
       "      <td>Employee</td>\n",
       "      <td>2-5yr</td>\n",
       "      <td>Lorry (11?40Q)</td>\n",
       "      <td>Owner</td>\n",
       "      <td>NaN</td>\n",
       "      <td>...</td>\n",
       "      <td>Going straight</td>\n",
       "      <td>na</td>\n",
       "      <td>na</td>\n",
       "      <td>na</td>\n",
       "      <td>na</td>\n",
       "      <td>Driver</td>\n",
       "      <td>Normal</td>\n",
       "      <td>Not a Pedestrian</td>\n",
       "      <td>No distancing</td>\n",
       "      <td>Slight Injury</td>\n",
       "    </tr>\n",
       "    <tr>\n",
       "      <th>12312</th>\n",
       "      <td>18:00:00</td>\n",
       "      <td>Sunday</td>\n",
       "      <td>Unknown</td>\n",
       "      <td>Male</td>\n",
       "      <td>Elementary school</td>\n",
       "      <td>Employee</td>\n",
       "      <td>5-10yr</td>\n",
       "      <td>Automobile</td>\n",
       "      <td>Owner</td>\n",
       "      <td>NaN</td>\n",
       "      <td>...</td>\n",
       "      <td>Other</td>\n",
       "      <td>na</td>\n",
       "      <td>na</td>\n",
       "      <td>na</td>\n",
       "      <td>na</td>\n",
       "      <td>Driver</td>\n",
       "      <td>Normal</td>\n",
       "      <td>Not a Pedestrian</td>\n",
       "      <td>No distancing</td>\n",
       "      <td>Slight Injury</td>\n",
       "    </tr>\n",
       "    <tr>\n",
       "      <th>12313</th>\n",
       "      <td>13:55:00</td>\n",
       "      <td>Sunday</td>\n",
       "      <td>Over 51</td>\n",
       "      <td>Male</td>\n",
       "      <td>Junior high school</td>\n",
       "      <td>Employee</td>\n",
       "      <td>5-10yr</td>\n",
       "      <td>Bajaj</td>\n",
       "      <td>Owner</td>\n",
       "      <td>2-5yrs</td>\n",
       "      <td>...</td>\n",
       "      <td>Other</td>\n",
       "      <td>Driver or rider</td>\n",
       "      <td>Male</td>\n",
       "      <td>31-50</td>\n",
       "      <td>3</td>\n",
       "      <td>Driver</td>\n",
       "      <td>Normal</td>\n",
       "      <td>Not a Pedestrian</td>\n",
       "      <td>Changing lane to the right</td>\n",
       "      <td>Serious Injury</td>\n",
       "    </tr>\n",
       "    <tr>\n",
       "      <th>12314</th>\n",
       "      <td>13:55:00</td>\n",
       "      <td>Sunday</td>\n",
       "      <td>18-30</td>\n",
       "      <td>Female</td>\n",
       "      <td>Junior high school</td>\n",
       "      <td>Employee</td>\n",
       "      <td>Above 10yr</td>\n",
       "      <td>Lorry (41?100Q)</td>\n",
       "      <td>Owner</td>\n",
       "      <td>2-5yrs</td>\n",
       "      <td>...</td>\n",
       "      <td>Other</td>\n",
       "      <td>na</td>\n",
       "      <td>na</td>\n",
       "      <td>na</td>\n",
       "      <td>na</td>\n",
       "      <td>Driver</td>\n",
       "      <td>Normal</td>\n",
       "      <td>Not a Pedestrian</td>\n",
       "      <td>Driving under the influence of drugs</td>\n",
       "      <td>Slight Injury</td>\n",
       "    </tr>\n",
       "    <tr>\n",
       "      <th>12315</th>\n",
       "      <td>13:55:00</td>\n",
       "      <td>Sunday</td>\n",
       "      <td>18-30</td>\n",
       "      <td>Male</td>\n",
       "      <td>Junior high school</td>\n",
       "      <td>Employee</td>\n",
       "      <td>5-10yr</td>\n",
       "      <td>Other</td>\n",
       "      <td>Owner</td>\n",
       "      <td>2-5yrs</td>\n",
       "      <td>...</td>\n",
       "      <td>Stopping</td>\n",
       "      <td>Pedestrian</td>\n",
       "      <td>Female</td>\n",
       "      <td>5</td>\n",
       "      <td>3</td>\n",
       "      <td>Driver</td>\n",
       "      <td>Normal</td>\n",
       "      <td>Crossing from nearside - masked by parked or s...</td>\n",
       "      <td>Changing lane to the right</td>\n",
       "      <td>Slight Injury</td>\n",
       "    </tr>\n",
       "  </tbody>\n",
       "</table>\n",
       "<p>12316 rows × 32 columns</p>\n",
       "</div>"
      ],
      "text/plain": [
       "           Time Day_of_week Age_band_of_driver Gender_of_driver  \\\n",
       "0      17:02:00      Monday              18-30             Male   \n",
       "1      17:02:00      Monday              31-50             Male   \n",
       "2      17:02:00      Monday              18-30             Male   \n",
       "3       1:06:00      Sunday              18-30             Male   \n",
       "4       1:06:00      Sunday              18-30             Male   \n",
       "...         ...         ...                ...              ...   \n",
       "12311  16:15:00   Wednesday              31-50             Male   \n",
       "12312  18:00:00      Sunday            Unknown             Male   \n",
       "12313  13:55:00      Sunday            Over 51             Male   \n",
       "12314  13:55:00      Sunday              18-30           Female   \n",
       "12315  13:55:00      Sunday              18-30             Male   \n",
       "\n",
       "        Educational_level Vehicle_driver_relation Driving_experience  \\\n",
       "0       Above high school                Employee              1-2yr   \n",
       "1      Junior high school                Employee         Above 10yr   \n",
       "2      Junior high school                Employee              1-2yr   \n",
       "3      Junior high school                Employee             5-10yr   \n",
       "4      Junior high school                Employee              2-5yr   \n",
       "...                   ...                     ...                ...   \n",
       "12311                 NaN                Employee              2-5yr   \n",
       "12312   Elementary school                Employee             5-10yr   \n",
       "12313  Junior high school                Employee             5-10yr   \n",
       "12314  Junior high school                Employee         Above 10yr   \n",
       "12315  Junior high school                Employee             5-10yr   \n",
       "\n",
       "           Type_of_vehicle Owner_of_vehicle Service_year_of_vehicle  ...  \\\n",
       "0               Automobile            Owner              Above 10yr  ...   \n",
       "1      Public (> 45 seats)            Owner                 5-10yrs  ...   \n",
       "2          Lorry (41?100Q)            Owner                     NaN  ...   \n",
       "3      Public (> 45 seats)     Governmental                     NaN  ...   \n",
       "4                      NaN            Owner                 5-10yrs  ...   \n",
       "...                    ...              ...                     ...  ...   \n",
       "12311       Lorry (11?40Q)            Owner                     NaN  ...   \n",
       "12312           Automobile            Owner                     NaN  ...   \n",
       "12313                Bajaj            Owner                  2-5yrs  ...   \n",
       "12314      Lorry (41?100Q)            Owner                  2-5yrs  ...   \n",
       "12315                Other            Owner                  2-5yrs  ...   \n",
       "\n",
       "      Vehicle_movement   Casualty_class Gender_of_casualty  \\\n",
       "0       Going straight               na                 na   \n",
       "1       Going straight               na                 na   \n",
       "2       Going straight  Driver or rider               Male   \n",
       "3       Going straight       Pedestrian             Female   \n",
       "4       Going straight               na                 na   \n",
       "...                ...              ...                ...   \n",
       "12311   Going straight               na                 na   \n",
       "12312            Other               na                 na   \n",
       "12313            Other  Driver or rider               Male   \n",
       "12314            Other               na                 na   \n",
       "12315         Stopping       Pedestrian             Female   \n",
       "\n",
       "      Age_band_of_casualty Casualty_severity Work_of_casuality  \\\n",
       "0                       na                na               NaN   \n",
       "1                       na                na               NaN   \n",
       "2                    31-50                 3            Driver   \n",
       "3                    18-30                 3            Driver   \n",
       "4                       na                na               NaN   \n",
       "...                    ...               ...               ...   \n",
       "12311                   na                na            Driver   \n",
       "12312                   na                na            Driver   \n",
       "12313                31-50                 3            Driver   \n",
       "12314                   na                na            Driver   \n",
       "12315                    5                 3            Driver   \n",
       "\n",
       "      Fitness_of_casuality                                Pedestrian_movement  \\\n",
       "0                      NaN                                   Not a Pedestrian   \n",
       "1                      NaN                                   Not a Pedestrian   \n",
       "2                      NaN                                   Not a Pedestrian   \n",
       "3                   Normal                                   Not a Pedestrian   \n",
       "4                      NaN                                   Not a Pedestrian   \n",
       "...                    ...                                                ...   \n",
       "12311               Normal                                   Not a Pedestrian   \n",
       "12312               Normal                                   Not a Pedestrian   \n",
       "12313               Normal                                   Not a Pedestrian   \n",
       "12314               Normal                                   Not a Pedestrian   \n",
       "12315               Normal  Crossing from nearside - masked by parked or s...   \n",
       "\n",
       "                          Cause_of_accident Accident_severity  \n",
       "0                           Moving Backward     Slight Injury  \n",
       "1                                Overtaking     Slight Injury  \n",
       "2                 Changing lane to the left    Serious Injury  \n",
       "3                Changing lane to the right     Slight Injury  \n",
       "4                                Overtaking     Slight Injury  \n",
       "...                                     ...               ...  \n",
       "12311                         No distancing     Slight Injury  \n",
       "12312                         No distancing     Slight Injury  \n",
       "12313            Changing lane to the right    Serious Injury  \n",
       "12314  Driving under the influence of drugs     Slight Injury  \n",
       "12315            Changing lane to the right     Slight Injury  \n",
       "\n",
       "[12316 rows x 32 columns]"
      ]
     },
     "execution_count": 5,
     "metadata": {},
     "output_type": "execute_result"
    }
   ],
   "source": [
    "Road_data = pd.read_csv(\"Road.csv\")\n",
    "Road_data"
   ]
  },
  {
   "cell_type": "markdown",
   "id": "e797726f",
   "metadata": {},
   "source": [
    "look "
   ]
  },
  {
   "cell_type": "markdown",
   "id": "021db5c0",
   "metadata": {},
   "source": [
    "Look at the top five records of dataset"
   ]
  },
  {
   "cell_type": "code",
   "execution_count": 6,
   "id": "5e0a4848",
   "metadata": {},
   "outputs": [
    {
     "data": {
      "text/html": [
       "<div>\n",
       "<style scoped>\n",
       "    .dataframe tbody tr th:only-of-type {\n",
       "        vertical-align: middle;\n",
       "    }\n",
       "\n",
       "    .dataframe tbody tr th {\n",
       "        vertical-align: top;\n",
       "    }\n",
       "\n",
       "    .dataframe thead th {\n",
       "        text-align: right;\n",
       "    }\n",
       "</style>\n",
       "<table border=\"1\" class=\"dataframe\">\n",
       "  <thead>\n",
       "    <tr style=\"text-align: right;\">\n",
       "      <th></th>\n",
       "      <th>Time</th>\n",
       "      <th>Day_of_week</th>\n",
       "      <th>Age_band_of_driver</th>\n",
       "      <th>Gender_of_driver</th>\n",
       "      <th>Educational_level</th>\n",
       "      <th>Vehicle_driver_relation</th>\n",
       "      <th>Driving_experience</th>\n",
       "      <th>Type_of_vehicle</th>\n",
       "      <th>Owner_of_vehicle</th>\n",
       "      <th>Service_year_of_vehicle</th>\n",
       "      <th>...</th>\n",
       "      <th>Vehicle_movement</th>\n",
       "      <th>Casualty_class</th>\n",
       "      <th>Gender_of_casualty</th>\n",
       "      <th>Age_band_of_casualty</th>\n",
       "      <th>Casualty_severity</th>\n",
       "      <th>Work_of_casuality</th>\n",
       "      <th>Fitness_of_casuality</th>\n",
       "      <th>Pedestrian_movement</th>\n",
       "      <th>Cause_of_accident</th>\n",
       "      <th>Accident_severity</th>\n",
       "    </tr>\n",
       "  </thead>\n",
       "  <tbody>\n",
       "    <tr>\n",
       "      <th>0</th>\n",
       "      <td>17:02:00</td>\n",
       "      <td>Monday</td>\n",
       "      <td>18-30</td>\n",
       "      <td>Male</td>\n",
       "      <td>Above high school</td>\n",
       "      <td>Employee</td>\n",
       "      <td>1-2yr</td>\n",
       "      <td>Automobile</td>\n",
       "      <td>Owner</td>\n",
       "      <td>Above 10yr</td>\n",
       "      <td>...</td>\n",
       "      <td>Going straight</td>\n",
       "      <td>na</td>\n",
       "      <td>na</td>\n",
       "      <td>na</td>\n",
       "      <td>na</td>\n",
       "      <td>NaN</td>\n",
       "      <td>NaN</td>\n",
       "      <td>Not a Pedestrian</td>\n",
       "      <td>Moving Backward</td>\n",
       "      <td>Slight Injury</td>\n",
       "    </tr>\n",
       "    <tr>\n",
       "      <th>1</th>\n",
       "      <td>17:02:00</td>\n",
       "      <td>Monday</td>\n",
       "      <td>31-50</td>\n",
       "      <td>Male</td>\n",
       "      <td>Junior high school</td>\n",
       "      <td>Employee</td>\n",
       "      <td>Above 10yr</td>\n",
       "      <td>Public (&gt; 45 seats)</td>\n",
       "      <td>Owner</td>\n",
       "      <td>5-10yrs</td>\n",
       "      <td>...</td>\n",
       "      <td>Going straight</td>\n",
       "      <td>na</td>\n",
       "      <td>na</td>\n",
       "      <td>na</td>\n",
       "      <td>na</td>\n",
       "      <td>NaN</td>\n",
       "      <td>NaN</td>\n",
       "      <td>Not a Pedestrian</td>\n",
       "      <td>Overtaking</td>\n",
       "      <td>Slight Injury</td>\n",
       "    </tr>\n",
       "    <tr>\n",
       "      <th>2</th>\n",
       "      <td>17:02:00</td>\n",
       "      <td>Monday</td>\n",
       "      <td>18-30</td>\n",
       "      <td>Male</td>\n",
       "      <td>Junior high school</td>\n",
       "      <td>Employee</td>\n",
       "      <td>1-2yr</td>\n",
       "      <td>Lorry (41?100Q)</td>\n",
       "      <td>Owner</td>\n",
       "      <td>NaN</td>\n",
       "      <td>...</td>\n",
       "      <td>Going straight</td>\n",
       "      <td>Driver or rider</td>\n",
       "      <td>Male</td>\n",
       "      <td>31-50</td>\n",
       "      <td>3</td>\n",
       "      <td>Driver</td>\n",
       "      <td>NaN</td>\n",
       "      <td>Not a Pedestrian</td>\n",
       "      <td>Changing lane to the left</td>\n",
       "      <td>Serious Injury</td>\n",
       "    </tr>\n",
       "    <tr>\n",
       "      <th>3</th>\n",
       "      <td>1:06:00</td>\n",
       "      <td>Sunday</td>\n",
       "      <td>18-30</td>\n",
       "      <td>Male</td>\n",
       "      <td>Junior high school</td>\n",
       "      <td>Employee</td>\n",
       "      <td>5-10yr</td>\n",
       "      <td>Public (&gt; 45 seats)</td>\n",
       "      <td>Governmental</td>\n",
       "      <td>NaN</td>\n",
       "      <td>...</td>\n",
       "      <td>Going straight</td>\n",
       "      <td>Pedestrian</td>\n",
       "      <td>Female</td>\n",
       "      <td>18-30</td>\n",
       "      <td>3</td>\n",
       "      <td>Driver</td>\n",
       "      <td>Normal</td>\n",
       "      <td>Not a Pedestrian</td>\n",
       "      <td>Changing lane to the right</td>\n",
       "      <td>Slight Injury</td>\n",
       "    </tr>\n",
       "    <tr>\n",
       "      <th>4</th>\n",
       "      <td>1:06:00</td>\n",
       "      <td>Sunday</td>\n",
       "      <td>18-30</td>\n",
       "      <td>Male</td>\n",
       "      <td>Junior high school</td>\n",
       "      <td>Employee</td>\n",
       "      <td>2-5yr</td>\n",
       "      <td>NaN</td>\n",
       "      <td>Owner</td>\n",
       "      <td>5-10yrs</td>\n",
       "      <td>...</td>\n",
       "      <td>Going straight</td>\n",
       "      <td>na</td>\n",
       "      <td>na</td>\n",
       "      <td>na</td>\n",
       "      <td>na</td>\n",
       "      <td>NaN</td>\n",
       "      <td>NaN</td>\n",
       "      <td>Not a Pedestrian</td>\n",
       "      <td>Overtaking</td>\n",
       "      <td>Slight Injury</td>\n",
       "    </tr>\n",
       "  </tbody>\n",
       "</table>\n",
       "<p>5 rows × 32 columns</p>\n",
       "</div>"
      ],
      "text/plain": [
       "       Time Day_of_week Age_band_of_driver Gender_of_driver  \\\n",
       "0  17:02:00      Monday              18-30             Male   \n",
       "1  17:02:00      Monday              31-50             Male   \n",
       "2  17:02:00      Monday              18-30             Male   \n",
       "3   1:06:00      Sunday              18-30             Male   \n",
       "4   1:06:00      Sunday              18-30             Male   \n",
       "\n",
       "    Educational_level Vehicle_driver_relation Driving_experience  \\\n",
       "0   Above high school                Employee              1-2yr   \n",
       "1  Junior high school                Employee         Above 10yr   \n",
       "2  Junior high school                Employee              1-2yr   \n",
       "3  Junior high school                Employee             5-10yr   \n",
       "4  Junior high school                Employee              2-5yr   \n",
       "\n",
       "       Type_of_vehicle Owner_of_vehicle Service_year_of_vehicle  ...  \\\n",
       "0           Automobile            Owner              Above 10yr  ...   \n",
       "1  Public (> 45 seats)            Owner                 5-10yrs  ...   \n",
       "2      Lorry (41?100Q)            Owner                     NaN  ...   \n",
       "3  Public (> 45 seats)     Governmental                     NaN  ...   \n",
       "4                  NaN            Owner                 5-10yrs  ...   \n",
       "\n",
       "  Vehicle_movement   Casualty_class Gender_of_casualty Age_band_of_casualty  \\\n",
       "0   Going straight               na                 na                   na   \n",
       "1   Going straight               na                 na                   na   \n",
       "2   Going straight  Driver or rider               Male                31-50   \n",
       "3   Going straight       Pedestrian             Female                18-30   \n",
       "4   Going straight               na                 na                   na   \n",
       "\n",
       "  Casualty_severity Work_of_casuality Fitness_of_casuality  \\\n",
       "0                na               NaN                  NaN   \n",
       "1                na               NaN                  NaN   \n",
       "2                 3            Driver                  NaN   \n",
       "3                 3            Driver               Normal   \n",
       "4                na               NaN                  NaN   \n",
       "\n",
       "  Pedestrian_movement           Cause_of_accident Accident_severity  \n",
       "0    Not a Pedestrian             Moving Backward     Slight Injury  \n",
       "1    Not a Pedestrian                  Overtaking     Slight Injury  \n",
       "2    Not a Pedestrian   Changing lane to the left    Serious Injury  \n",
       "3    Not a Pedestrian  Changing lane to the right     Slight Injury  \n",
       "4    Not a Pedestrian                  Overtaking     Slight Injury  \n",
       "\n",
       "[5 rows x 32 columns]"
      ]
     },
     "execution_count": 6,
     "metadata": {},
     "output_type": "execute_result"
    }
   ],
   "source": [
    "Road_data.head()"
   ]
  },
  {
   "cell_type": "markdown",
   "id": "b0b14deb",
   "metadata": {},
   "source": [
    "checking the shape of dataset(it means count of rows and columns of dataset)"
   ]
  },
  {
   "cell_type": "code",
   "execution_count": 7,
   "id": "b336c864",
   "metadata": {},
   "outputs": [
    {
     "data": {
      "text/plain": [
       "(12316, 32)"
      ]
     },
     "execution_count": 7,
     "metadata": {},
     "output_type": "execute_result"
    }
   ],
   "source": [
    "Road_data.shape"
   ]
  },
  {
   "cell_type": "code",
   "execution_count": 8,
   "id": "89a1b14b",
   "metadata": {},
   "outputs": [
    {
     "data": {
      "text/plain": [
       "array(['Time', 'Day_of_week', 'Age_band_of_driver', 'Gender_of_driver',\n",
       "       'Educational_level', 'Vehicle_driver_relation',\n",
       "       'Driving_experience', 'Type_of_vehicle', 'Owner_of_vehicle',\n",
       "       'Service_year_of_vehicle', 'Defect_of_vehicle',\n",
       "       'Area_accident_occured', 'Lanes_or_Medians', 'Road_allignment',\n",
       "       'Types_of_Junction', 'Road_surface_type',\n",
       "       'Road_surface_conditions', 'Light_conditions',\n",
       "       'Weather_conditions', 'Type_of_collision',\n",
       "       'Number_of_vehicles_involved', 'Number_of_casualties',\n",
       "       'Vehicle_movement', 'Casualty_class', 'Gender_of_casualty',\n",
       "       'Age_band_of_casualty', 'Casualty_severity', 'Work_of_casuality',\n",
       "       'Fitness_of_casuality', 'Pedestrian_movement', 'Cause_of_accident',\n",
       "       'Accident_severity'], dtype=object)"
      ]
     },
     "execution_count": 8,
     "metadata": {},
     "output_type": "execute_result"
    }
   ],
   "source": [
    "Road_data.columns.values"
   ]
  },
  {
   "cell_type": "markdown",
   "id": "10dccd95",
   "metadata": {},
   "source": [
    "checking the info of the dataset it showing the null count of dataset and showing the\n",
    "datatypes of the feature"
   ]
  },
  {
   "cell_type": "code",
   "execution_count": 9,
   "id": "c08653ee",
   "metadata": {},
   "outputs": [
    {
     "name": "stdout",
     "output_type": "stream",
     "text": [
      "<class 'pandas.core.frame.DataFrame'>\n",
      "RangeIndex: 12316 entries, 0 to 12315\n",
      "Data columns (total 32 columns):\n",
      " #   Column                       Non-Null Count  Dtype \n",
      "---  ------                       --------------  ----- \n",
      " 0   Time                         12316 non-null  object\n",
      " 1   Day_of_week                  12316 non-null  object\n",
      " 2   Age_band_of_driver           12316 non-null  object\n",
      " 3   Gender_of_driver             12316 non-null  object\n",
      " 4   Educational_level            11575 non-null  object\n",
      " 5   Vehicle_driver_relation      11737 non-null  object\n",
      " 6   Driving_experience           11487 non-null  object\n",
      " 7   Type_of_vehicle              11366 non-null  object\n",
      " 8   Owner_of_vehicle             11834 non-null  object\n",
      " 9   Service_year_of_vehicle      8388 non-null   object\n",
      " 10  Defect_of_vehicle            7889 non-null   object\n",
      " 11  Area_accident_occured        12077 non-null  object\n",
      " 12  Lanes_or_Medians             11931 non-null  object\n",
      " 13  Road_allignment              12174 non-null  object\n",
      " 14  Types_of_Junction            11429 non-null  object\n",
      " 15  Road_surface_type            12144 non-null  object\n",
      " 16  Road_surface_conditions      12316 non-null  object\n",
      " 17  Light_conditions             12316 non-null  object\n",
      " 18  Weather_conditions           12316 non-null  object\n",
      " 19  Type_of_collision            12161 non-null  object\n",
      " 20  Number_of_vehicles_involved  12316 non-null  int64 \n",
      " 21  Number_of_casualties         12316 non-null  int64 \n",
      " 22  Vehicle_movement             12008 non-null  object\n",
      " 23  Casualty_class               12316 non-null  object\n",
      " 24  Gender_of_casualty           12316 non-null  object\n",
      " 25  Age_band_of_casualty         12316 non-null  object\n",
      " 26  Casualty_severity            12316 non-null  object\n",
      " 27  Work_of_casuality            9118 non-null   object\n",
      " 28  Fitness_of_casuality         9681 non-null   object\n",
      " 29  Pedestrian_movement          12316 non-null  object\n",
      " 30  Cause_of_accident            12316 non-null  object\n",
      " 31  Accident_severity            12316 non-null  object\n",
      "dtypes: int64(2), object(30)\n",
      "memory usage: 3.0+ MB\n"
     ]
    }
   ],
   "source": [
    "Road_data.info()"
   ]
  },
  {
   "cell_type": "code",
   "execution_count": 10,
   "id": "d5092c15",
   "metadata": {},
   "outputs": [
    {
     "data": {
      "text/plain": [
       "Time                           object\n",
       "Day_of_week                    object\n",
       "Age_band_of_driver             object\n",
       "Gender_of_driver               object\n",
       "Educational_level              object\n",
       "Vehicle_driver_relation        object\n",
       "Driving_experience             object\n",
       "Type_of_vehicle                object\n",
       "Owner_of_vehicle               object\n",
       "Service_year_of_vehicle        object\n",
       "Defect_of_vehicle              object\n",
       "Area_accident_occured          object\n",
       "Lanes_or_Medians               object\n",
       "Road_allignment                object\n",
       "Types_of_Junction              object\n",
       "Road_surface_type              object\n",
       "Road_surface_conditions        object\n",
       "Light_conditions               object\n",
       "Weather_conditions             object\n",
       "Type_of_collision              object\n",
       "Number_of_vehicles_involved     int64\n",
       "Number_of_casualties            int64\n",
       "Vehicle_movement               object\n",
       "Casualty_class                 object\n",
       "Gender_of_casualty             object\n",
       "Age_band_of_casualty           object\n",
       "Casualty_severity              object\n",
       "Work_of_casuality              object\n",
       "Fitness_of_casuality           object\n",
       "Pedestrian_movement            object\n",
       "Cause_of_accident              object\n",
       "Accident_severity              object\n",
       "dtype: object"
      ]
     },
     "execution_count": 10,
     "metadata": {},
     "output_type": "execute_result"
    }
   ],
   "source": [
    "Road_data.dtypes"
   ]
  },
  {
   "cell_type": "code",
   "execution_count": 11,
   "id": "80741e2a",
   "metadata": {},
   "outputs": [
    {
     "data": {
      "text/html": [
       "<div>\n",
       "<style scoped>\n",
       "    .dataframe tbody tr th:only-of-type {\n",
       "        vertical-align: middle;\n",
       "    }\n",
       "\n",
       "    .dataframe tbody tr th {\n",
       "        vertical-align: top;\n",
       "    }\n",
       "\n",
       "    .dataframe thead th {\n",
       "        text-align: right;\n",
       "    }\n",
       "</style>\n",
       "<table border=\"1\" class=\"dataframe\">\n",
       "  <thead>\n",
       "    <tr style=\"text-align: right;\">\n",
       "      <th></th>\n",
       "      <th>Number_of_vehicles_involved</th>\n",
       "      <th>Number_of_casualties</th>\n",
       "    </tr>\n",
       "  </thead>\n",
       "  <tbody>\n",
       "    <tr>\n",
       "      <th>count</th>\n",
       "      <td>12316.000000</td>\n",
       "      <td>12316.000000</td>\n",
       "    </tr>\n",
       "    <tr>\n",
       "      <th>mean</th>\n",
       "      <td>2.040679</td>\n",
       "      <td>1.548149</td>\n",
       "    </tr>\n",
       "    <tr>\n",
       "      <th>std</th>\n",
       "      <td>0.688790</td>\n",
       "      <td>1.007179</td>\n",
       "    </tr>\n",
       "    <tr>\n",
       "      <th>min</th>\n",
       "      <td>1.000000</td>\n",
       "      <td>1.000000</td>\n",
       "    </tr>\n",
       "    <tr>\n",
       "      <th>25%</th>\n",
       "      <td>2.000000</td>\n",
       "      <td>1.000000</td>\n",
       "    </tr>\n",
       "    <tr>\n",
       "      <th>50%</th>\n",
       "      <td>2.000000</td>\n",
       "      <td>1.000000</td>\n",
       "    </tr>\n",
       "    <tr>\n",
       "      <th>75%</th>\n",
       "      <td>2.000000</td>\n",
       "      <td>2.000000</td>\n",
       "    </tr>\n",
       "    <tr>\n",
       "      <th>max</th>\n",
       "      <td>7.000000</td>\n",
       "      <td>8.000000</td>\n",
       "    </tr>\n",
       "  </tbody>\n",
       "</table>\n",
       "</div>"
      ],
      "text/plain": [
       "       Number_of_vehicles_involved  Number_of_casualties\n",
       "count                 12316.000000          12316.000000\n",
       "mean                      2.040679              1.548149\n",
       "std                       0.688790              1.007179\n",
       "min                       1.000000              1.000000\n",
       "25%                       2.000000              1.000000\n",
       "50%                       2.000000              1.000000\n",
       "75%                       2.000000              2.000000\n",
       "max                       7.000000              8.000000"
      ]
     },
     "execution_count": 11,
     "metadata": {},
     "output_type": "execute_result"
    }
   ],
   "source": [
    "Road_data.describe()"
   ]
  },
  {
   "cell_type": "markdown",
   "id": "892aaab3",
   "metadata": {},
   "source": [
    "we have to check the count of null values of the dataset"
   ]
  },
  {
   "cell_type": "code",
   "execution_count": 12,
   "id": "f2a6228c",
   "metadata": {},
   "outputs": [
    {
     "data": {
      "text/plain": [
       "Time                              0\n",
       "Day_of_week                       0\n",
       "Age_band_of_driver                0\n",
       "Gender_of_driver                  0\n",
       "Educational_level               741\n",
       "Vehicle_driver_relation         579\n",
       "Driving_experience              829\n",
       "Type_of_vehicle                 950\n",
       "Owner_of_vehicle                482\n",
       "Service_year_of_vehicle        3928\n",
       "Defect_of_vehicle              4427\n",
       "Area_accident_occured           239\n",
       "Lanes_or_Medians                385\n",
       "Road_allignment                 142\n",
       "Types_of_Junction               887\n",
       "Road_surface_type               172\n",
       "Road_surface_conditions           0\n",
       "Light_conditions                  0\n",
       "Weather_conditions                0\n",
       "Type_of_collision               155\n",
       "Number_of_vehicles_involved       0\n",
       "Number_of_casualties              0\n",
       "Vehicle_movement                308\n",
       "Casualty_class                    0\n",
       "Gender_of_casualty                0\n",
       "Age_band_of_casualty              0\n",
       "Casualty_severity                 0\n",
       "Work_of_casuality              3198\n",
       "Fitness_of_casuality           2635\n",
       "Pedestrian_movement               0\n",
       "Cause_of_accident                 0\n",
       "Accident_severity                 0\n",
       "dtype: int64"
      ]
     },
     "execution_count": 12,
     "metadata": {},
     "output_type": "execute_result"
    }
   ],
   "source": [
    "Road_data.isnull().sum()"
   ]
  },
  {
   "cell_type": "markdown",
   "id": "62a37b70",
   "metadata": {},
   "source": [
    "After we checking the values of null count there are lots of null values are present in the dataset so  \n",
    "we need to drop the the null values in the dataset"
   ]
  },
  {
   "cell_type": "code",
   "execution_count": 9,
   "id": "aefdc208",
   "metadata": {},
   "outputs": [],
   "source": [
    "Road_data.dropna(inplace= True)"
   ]
  },
  {
   "cell_type": "code",
   "execution_count": 25,
   "id": "54fb72b1",
   "metadata": {},
   "outputs": [
    {
     "data": {
      "text/html": [
       "<div>\n",
       "<style scoped>\n",
       "    .dataframe tbody tr th:only-of-type {\n",
       "        vertical-align: middle;\n",
       "    }\n",
       "\n",
       "    .dataframe tbody tr th {\n",
       "        vertical-align: top;\n",
       "    }\n",
       "\n",
       "    .dataframe thead th {\n",
       "        text-align: right;\n",
       "    }\n",
       "</style>\n",
       "<table border=\"1\" class=\"dataframe\">\n",
       "  <thead>\n",
       "    <tr style=\"text-align: right;\">\n",
       "      <th></th>\n",
       "      <th>Time</th>\n",
       "      <th>Day_of_week</th>\n",
       "      <th>Age_band_of_driver</th>\n",
       "      <th>Gender_of_driver</th>\n",
       "      <th>Educational_level</th>\n",
       "      <th>Vehicle_driver_relation</th>\n",
       "      <th>Driving_experience</th>\n",
       "      <th>Type_of_vehicle</th>\n",
       "      <th>Owner_of_vehicle</th>\n",
       "      <th>Service_year_of_vehicle</th>\n",
       "      <th>...</th>\n",
       "      <th>Vehicle_movement</th>\n",
       "      <th>Casualty_class</th>\n",
       "      <th>Gender_of_casualty</th>\n",
       "      <th>Age_band_of_casualty</th>\n",
       "      <th>Casualty_severity</th>\n",
       "      <th>Work_of_casuality</th>\n",
       "      <th>Fitness_of_casuality</th>\n",
       "      <th>Pedestrian_movement</th>\n",
       "      <th>Cause_of_accident</th>\n",
       "      <th>Accident_severity</th>\n",
       "    </tr>\n",
       "  </thead>\n",
       "  <tbody>\n",
       "    <tr>\n",
       "      <th>8</th>\n",
       "      <td>17:20:00</td>\n",
       "      <td>Friday</td>\n",
       "      <td>18-30</td>\n",
       "      <td>Male</td>\n",
       "      <td>Junior high school</td>\n",
       "      <td>Employee</td>\n",
       "      <td>Above 10yr</td>\n",
       "      <td>Lorry (41?100Q)</td>\n",
       "      <td>Owner</td>\n",
       "      <td>1-2yr</td>\n",
       "      <td>...</td>\n",
       "      <td>Going straight</td>\n",
       "      <td>Pedestrian</td>\n",
       "      <td>Male</td>\n",
       "      <td>Under 18</td>\n",
       "      <td>3</td>\n",
       "      <td>Driver</td>\n",
       "      <td>Normal</td>\n",
       "      <td>Crossing from driver's nearside</td>\n",
       "      <td>Changing lane to the right</td>\n",
       "      <td>Slight Injury</td>\n",
       "    </tr>\n",
       "    <tr>\n",
       "      <th>9</th>\n",
       "      <td>17:20:00</td>\n",
       "      <td>Friday</td>\n",
       "      <td>18-30</td>\n",
       "      <td>Male</td>\n",
       "      <td>Junior high school</td>\n",
       "      <td>Employee</td>\n",
       "      <td>1-2yr</td>\n",
       "      <td>Automobile</td>\n",
       "      <td>Owner</td>\n",
       "      <td>2-5yrs</td>\n",
       "      <td>...</td>\n",
       "      <td>U-Turn</td>\n",
       "      <td>Passenger</td>\n",
       "      <td>Male</td>\n",
       "      <td>18-30</td>\n",
       "      <td>3</td>\n",
       "      <td>Driver</td>\n",
       "      <td>Normal</td>\n",
       "      <td>Not a Pedestrian</td>\n",
       "      <td>Moving Backward</td>\n",
       "      <td>Serious Injury</td>\n",
       "    </tr>\n",
       "    <tr>\n",
       "      <th>12</th>\n",
       "      <td>17:45:00</td>\n",
       "      <td>Thursday</td>\n",
       "      <td>18-30</td>\n",
       "      <td>Male</td>\n",
       "      <td>Junior high school</td>\n",
       "      <td>Employee</td>\n",
       "      <td>1-2yr</td>\n",
       "      <td>Public (&gt; 45 seats)</td>\n",
       "      <td>Owner</td>\n",
       "      <td>2-5yrs</td>\n",
       "      <td>...</td>\n",
       "      <td>Going straight</td>\n",
       "      <td>na</td>\n",
       "      <td>na</td>\n",
       "      <td>na</td>\n",
       "      <td>na</td>\n",
       "      <td>Driver</td>\n",
       "      <td>Normal</td>\n",
       "      <td>Not a Pedestrian</td>\n",
       "      <td>No distancing</td>\n",
       "      <td>Slight Injury</td>\n",
       "    </tr>\n",
       "    <tr>\n",
       "      <th>13</th>\n",
       "      <td>17:45:00</td>\n",
       "      <td>Thursday</td>\n",
       "      <td>31-50</td>\n",
       "      <td>Male</td>\n",
       "      <td>Junior high school</td>\n",
       "      <td>Employee</td>\n",
       "      <td>5-10yr</td>\n",
       "      <td>Lorry (41?100Q)</td>\n",
       "      <td>Owner</td>\n",
       "      <td>Above 10yr</td>\n",
       "      <td>...</td>\n",
       "      <td>Waiting to go</td>\n",
       "      <td>na</td>\n",
       "      <td>na</td>\n",
       "      <td>na</td>\n",
       "      <td>na</td>\n",
       "      <td>Other</td>\n",
       "      <td>Normal</td>\n",
       "      <td>Not a Pedestrian</td>\n",
       "      <td>No priority to vehicle</td>\n",
       "      <td>Slight Injury</td>\n",
       "    </tr>\n",
       "    <tr>\n",
       "      <th>14</th>\n",
       "      <td>17:45:00</td>\n",
       "      <td>Thursday</td>\n",
       "      <td>31-50</td>\n",
       "      <td>Male</td>\n",
       "      <td>Junior high school</td>\n",
       "      <td>Employee</td>\n",
       "      <td>Above 10yr</td>\n",
       "      <td>Automobile</td>\n",
       "      <td>Owner</td>\n",
       "      <td>1-2yr</td>\n",
       "      <td>...</td>\n",
       "      <td>Going straight</td>\n",
       "      <td>Driver or rider</td>\n",
       "      <td>Female</td>\n",
       "      <td>18-30</td>\n",
       "      <td>3</td>\n",
       "      <td>Driver</td>\n",
       "      <td>Normal</td>\n",
       "      <td>Not a Pedestrian</td>\n",
       "      <td>No distancing</td>\n",
       "      <td>Serious Injury</td>\n",
       "    </tr>\n",
       "  </tbody>\n",
       "</table>\n",
       "<p>5 rows × 32 columns</p>\n",
       "</div>"
      ],
      "text/plain": [
       "        Time Day_of_week Age_band_of_driver Gender_of_driver  \\\n",
       "8   17:20:00      Friday              18-30             Male   \n",
       "9   17:20:00      Friday              18-30             Male   \n",
       "12  17:45:00    Thursday              18-30             Male   \n",
       "13  17:45:00    Thursday              31-50             Male   \n",
       "14  17:45:00    Thursday              31-50             Male   \n",
       "\n",
       "     Educational_level Vehicle_driver_relation Driving_experience  \\\n",
       "8   Junior high school                Employee         Above 10yr   \n",
       "9   Junior high school                Employee              1-2yr   \n",
       "12  Junior high school                Employee              1-2yr   \n",
       "13  Junior high school                Employee             5-10yr   \n",
       "14  Junior high school                Employee         Above 10yr   \n",
       "\n",
       "        Type_of_vehicle Owner_of_vehicle Service_year_of_vehicle  ...  \\\n",
       "8       Lorry (41?100Q)            Owner                   1-2yr  ...   \n",
       "9            Automobile            Owner                  2-5yrs  ...   \n",
       "12  Public (> 45 seats)            Owner                  2-5yrs  ...   \n",
       "13      Lorry (41?100Q)            Owner              Above 10yr  ...   \n",
       "14           Automobile            Owner                   1-2yr  ...   \n",
       "\n",
       "   Vehicle_movement   Casualty_class Gender_of_casualty Age_band_of_casualty  \\\n",
       "8    Going straight       Pedestrian               Male             Under 18   \n",
       "9            U-Turn        Passenger               Male                18-30   \n",
       "12   Going straight               na                 na                   na   \n",
       "13    Waiting to go               na                 na                   na   \n",
       "14   Going straight  Driver or rider             Female                18-30   \n",
       "\n",
       "   Casualty_severity Work_of_casuality Fitness_of_casuality  \\\n",
       "8                  3            Driver               Normal   \n",
       "9                  3            Driver               Normal   \n",
       "12                na            Driver               Normal   \n",
       "13                na             Other               Normal   \n",
       "14                 3            Driver               Normal   \n",
       "\n",
       "                Pedestrian_movement           Cause_of_accident  \\\n",
       "8   Crossing from driver's nearside  Changing lane to the right   \n",
       "9                  Not a Pedestrian             Moving Backward   \n",
       "12                 Not a Pedestrian               No distancing   \n",
       "13                 Not a Pedestrian      No priority to vehicle   \n",
       "14                 Not a Pedestrian               No distancing   \n",
       "\n",
       "   Accident_severity  \n",
       "8      Slight Injury  \n",
       "9     Serious Injury  \n",
       "12     Slight Injury  \n",
       "13     Slight Injury  \n",
       "14    Serious Injury  \n",
       "\n",
       "[5 rows x 32 columns]"
      ]
     },
     "execution_count": 25,
     "metadata": {},
     "output_type": "execute_result"
    }
   ],
   "source": [
    "Road_data.head()"
   ]
  },
  {
   "cell_type": "code",
   "execution_count": 26,
   "id": "64d59ebe",
   "metadata": {},
   "outputs": [
    {
     "data": {
      "text/plain": [
       "Time                           0\n",
       "Day_of_week                    0\n",
       "Age_band_of_driver             0\n",
       "Gender_of_driver               0\n",
       "Educational_level              0\n",
       "Vehicle_driver_relation        0\n",
       "Driving_experience             0\n",
       "Type_of_vehicle                0\n",
       "Owner_of_vehicle               0\n",
       "Service_year_of_vehicle        0\n",
       "Defect_of_vehicle              0\n",
       "Area_accident_occured          0\n",
       "Lanes_or_Medians               0\n",
       "Road_allignment                0\n",
       "Types_of_Junction              0\n",
       "Road_surface_type              0\n",
       "Road_surface_conditions        0\n",
       "Light_conditions               0\n",
       "Weather_conditions             0\n",
       "Type_of_collision              0\n",
       "Number_of_vehicles_involved    0\n",
       "Number_of_casualties           0\n",
       "Vehicle_movement               0\n",
       "Casualty_class                 0\n",
       "Gender_of_casualty             0\n",
       "Age_band_of_casualty           0\n",
       "Casualty_severity              0\n",
       "Work_of_casuality              0\n",
       "Fitness_of_casuality           0\n",
       "Pedestrian_movement            0\n",
       "Cause_of_accident              0\n",
       "Accident_severity              0\n",
       "dtype: int64"
      ]
     },
     "execution_count": 26,
     "metadata": {},
     "output_type": "execute_result"
    }
   ],
   "source": [
    "Road_data.isnull().sum()"
   ]
  },
  {
   "cell_type": "code",
   "execution_count": 15,
   "id": "b0fa75e6",
   "metadata": {},
   "outputs": [
    {
     "data": {
      "text/plain": [
       "(2889, 32)"
      ]
     },
     "execution_count": 15,
     "metadata": {},
     "output_type": "execute_result"
    }
   ],
   "source": [
    "Road_data.shape"
   ]
  },
  {
   "cell_type": "code",
   "execution_count": null,
   "id": "457a3657",
   "metadata": {},
   "outputs": [],
   "source": []
  },
  {
   "cell_type": "code",
   "execution_count": 16,
   "id": "44f22bbf",
   "metadata": {},
   "outputs": [
    {
     "data": {
      "text/plain": [
       "Gender_of_driver\n",
       "Male       2688\n",
       "Female      158\n",
       "Unknown      43\n",
       "Name: count, dtype: int64"
      ]
     },
     "execution_count": 16,
     "metadata": {},
     "output_type": "execute_result"
    }
   ],
   "source": [
    "Road_data['Gender_of_driver'].value_counts()"
   ]
  },
  {
   "cell_type": "markdown",
   "id": "a2552e54",
   "metadata": {},
   "source": [
    "Problem statement:- we have to find the whhch gender of driver is mostly active for accident"
   ]
  },
  {
   "cell_type": "code",
   "execution_count": 21,
   "id": "929290f0",
   "metadata": {},
   "outputs": [
    {
     "data": {
      "image/png": "[encoded data removed]",
      "text/plain": [
       "<Figure size 640x480 with 1 Axes>"
      ]
     },
     "metadata": {},
     "output_type": "display_data"
    }
   ],
   "source": [
    "sns.countplot(x=Road_data[\"Gender_of_driver\"])\n",
    "plt.show()"
   ]
  },
  {
   "cell_type": "code",
   "execution_count": 27,
   "id": "598034c9",
   "metadata": {},
   "outputs": [
    {
     "data": {
      "text/plain": [
       "Gender_of_driver\n",
       "Male       93.042575\n",
       "Female      5.469020\n",
       "Unknown     1.488404\n",
       "Name: count, dtype: float64"
      ]
     },
     "execution_count": 27,
     "metadata": {},
     "output_type": "execute_result"
    }
   ],
   "source": [
    "100*Road_data[\"Gender_of_driver\"].value_counts()/len(Road_data[\"Gender_of_driver\"])"
   ]
  },
  {
   "cell_type": "raw",
   "id": "71df3a76",
   "metadata": {},
   "source": [
    "1)Ratio of male driver is 93.04\n",
    "2)as our analysis for the gender of driver in  male driver is highly active for driving as compared to female driver\n",
    "3)female Ratio of driver is 5.46 ( i.e so less )\n",
    "\n",
    "we can check the other features for Road accident and target the insights"
   ]
  },
  {
   "cell_type": "markdown",
   "id": "64c86608",
   "metadata": {},
   "source": [
    "checking the value of counts age band of driver "
   ]
  },
  {
   "cell_type": "code",
   "execution_count": 22,
   "id": "7d61434f",
   "metadata": {},
   "outputs": [
    {
     "data": {
      "text/plain": [
       "Age_band_of_driver\n",
       "18-30       1007\n",
       "31-50        925\n",
       "Unknown      393\n",
       "Over 51      364\n",
       "Under 18     200\n",
       "Name: count, dtype: int64"
      ]
     },
     "execution_count": 22,
     "metadata": {},
     "output_type": "execute_result"
    }
   ],
   "source": [
    "Road_data[\"Age_band_of_driver\"].value_counts()\n"
   ]
  },
  {
   "cell_type": "markdown",
   "id": "df5173ee",
   "metadata": {},
   "source": [
    "As we can see the most dependent and active age band of driver is 18-30 (THERE IS MAXIMUM COUNT)\n",
    "And other one is under 18 age is very less count (i.e it is not most active on accidents and driving)"
   ]
  },
  {
   "cell_type": "raw",
   "id": "377fb9d5",
   "metadata": {},
   "source": [
    "we can see with the help of plot"
   ]
  },
  {
   "cell_type": "markdown",
   "id": "efbff56f",
   "metadata": {},
   "source": [
    "Probelm Statement: In which age group is mostly acive on accidents "
   ]
  },
  {
   "cell_type": "code",
   "execution_count": 23,
   "id": "f8b372ce",
   "metadata": {},
   "outputs": [
    {
     "data": {
      "image/png": "[encoded data removed]",
      "text/plain": [
       "<Figure size 640x480 with 1 Axes>"
      ]
     },
     "metadata": {},
     "output_type": "display_data"
    }
   ],
   "source": [
    " "
   ]
  },
  {
   "cell_type": "code",
   "execution_count": 24,
   "id": "312e167d",
   "metadata": {},
   "outputs": [
    {
     "data": {
      "text/plain": [
       "Age_band_of_driver\n",
       "18-30       34.856352\n",
       "31-50       32.017999\n",
       "Unknown     13.603323\n",
       "Over 51     12.599515\n",
       "Under 18     6.922811\n",
       "Name: count, dtype: float64"
      ]
     },
     "execution_count": 24,
     "metadata": {},
     "output_type": "execute_result"
    }
   ],
   "source": [
    "100*Road_data[\"Age_band_of_driver\"].value_counts()/len(Road_data[\"Age_band_of_driver\"])"
   ]
  },
  {
   "cell_type": "raw",
   "id": "2879baf3",
   "metadata": {},
   "source": [
    "1)as our anlysis of data in Age band of driver  18-30 age  is higly active age band of driver \n",
    "that means it most affected on accident\n",
    "2)And another one 31-50 age group is also involved in age band of driver\n",
    "3) The ratio of 18-30 is 34.85 \n",
    "4)very less ratio is under 18 that is 6.92 (i.e under 18 age band is less involved in accident and not acitive"
   ]
  },
  {
   "cell_type": "markdown",
   "id": "bed58127",
   "metadata": {},
   "source": [
    "problem statment:- In which area is maximum accident happens and what is count of accidents"
   ]
  },
  {
   "cell_type": "code",
   "execution_count": 8,
   "id": "11e2a6aa",
   "metadata": {},
   "outputs": [
    {
     "data": {
      "text/plain": [
       "Area_accident_occured\n",
       "Other                              3819\n",
       "Office areas                       3451\n",
       "Residential areas                  2060\n",
       " Church areas                      1060\n",
       " Industrial areas                   456\n",
       "School areas                        415\n",
       "  Recreational areas                327\n",
       " Outside rural areas                218\n",
       " Hospital areas                     121\n",
       "  Market areas                       63\n",
       "Rural village areas                  44\n",
       "Unknown                              22\n",
       "Rural village areasOffice areas      20\n",
       "Recreational areas                    1\n",
       "Name: count, dtype: int64"
      ]
     },
     "execution_count": 8,
     "metadata": {},
     "output_type": "execute_result"
    }
   ],
   "source": [
    "Road_data[\"Area_accident_occured\"].value_counts()"
   ]
  },
  {
   "cell_type": "markdown",
   "id": "11396864",
   "metadata": {},
   "source": [
    "checking  the count of Area accidents with the help of ploting"
   ]
  },
  {
   "cell_type": "code",
   "execution_count": 6,
   "id": "9af9b4c4",
   "metadata": {},
   "outputs": [
    {
     "data": {
      "text/plain": [
       "Text(0.5, 1.02, 'Count of Area accident occured per category')"
      ]
     },
     "execution_count": 6,
     "metadata": {},
     "output_type": "execute_result"
    },
    {
     "data": {
      "image/png": "[encoded data removed]",
      "text/plain": [
       "<Figure size 800x600 with 1 Axes>"
      ]
     },
     "metadata": {},
     "output_type": "display_data"
    }
   ],
   "source": [
    "Road_data['Area_accident_occured'].value_counts().plot(kind = \"bar\", figsize=(8, 6))\n",
    "plt.xlabel(\"Category\", labelpad=15)\n",
    "plt.ylabel(\"Count\", labelpad=14)\n",
    "plt.title(\"Count of Area accident occured per category\", y=1.02)"
   ]
  },
  {
   "cell_type": "raw",
   "id": "899e10ca",
   "metadata": {},
   "source": [
    "here, we can find the ratio of area accident occured "
   ]
  },
  {
   "cell_type": "code",
   "execution_count": 10,
   "id": "dc370206",
   "metadata": {},
   "outputs": [
    {
     "data": {
      "text/plain": [
       "Area_accident_occured\n",
       "Other                              33.402561\n",
       "Office areas                       22.949117\n",
       "Residential areas                  18.137764\n",
       " Church areas                      10.834199\n",
       " Industrial areas                   4.015230\n",
       "School areas                        3.599862\n",
       " Outside rural areas                2.422984\n",
       "  Recreational areas                1.834545\n",
       " Hospital areas                     1.073036\n",
       "Rural village areas                 0.830737\n",
       "  Market areas                      0.726895\n",
       "Rural village areasOffice areas     0.173070\n",
       "Name: count, dtype: float64"
      ]
     },
     "execution_count": 10,
     "metadata": {},
     "output_type": "execute_result"
    }
   ],
   "source": [
    "100*Road_data[\"Area_accident_occured\"].value_counts()/len(Road_data[\"Area_accident_occured\"])"
   ]
  },
  {
   "cell_type": "raw",
   "id": "6228bb92",
   "metadata": {},
   "source": [
    "AS our analysis on area accidnet occured is maximum accident occured in Other areas But there is slighly diffrence \n",
    "between Office areas as compared to other areas because vry less difference in ratios\n",
    "another one is rural village areas, market araesand rural village office araes is less count of accident occured\n",
    "\n",
    "1)Ratio of Area accident occured :-1)Other:- 33.40 %\n",
    "                                   2)Office areas:- 22.94 %\n",
    "                                   \n",
    "2)Less ratio of Area accident ocuured:- 1)Rural village areas:-0.83 %\n",
    "                                        2)market areas:- 0.72 %\n",
    "                                        3)Rural village araes office araes:- 0.173\n",
    "                                        "
   ]
  },
  {
   "cell_type": "markdown",
   "id": "5ca46a5f",
   "metadata": {},
   "source": [
    "Problem statement:- what are the main Reasons of cause of accident and gives us the which accident has maximum count"
   ]
  },
  {
   "cell_type": "code",
   "execution_count": 11,
   "id": "cb462b00",
   "metadata": {},
   "outputs": [
    {
     "data": {
      "text/plain": [
       "Cause_of_accident\n",
       "No distancing                           559\n",
       "Changing lane to the right              424\n",
       "Driving carelessly                      337\n",
       "Changing lane to the left               310\n",
       "No priority to vehicle                  277\n",
       "Moving Backward                         268\n",
       "No priority to pedestrian               160\n",
       "Other                                    98\n",
       "Overtaking                               97\n",
       "Driving under the influence of drugs     89\n",
       "Driving to the left                      67\n",
       "Getting off the vehicle improperly       44\n",
       "Driving at high speed                    43\n",
       "Overturning                              43\n",
       "Turnover                                 28\n",
       "Overspeed                                20\n",
       "Overloading                              13\n",
       "Drunk driving                             5\n",
       "Unknown                                   4\n",
       "Improper parking                          3\n",
       "Name: count, dtype: int64"
      ]
     },
     "execution_count": 11,
     "metadata": {},
     "output_type": "execute_result"
    }
   ],
   "source": [
    "Road_data[\"Cause_of_accident\"].value_counts()"
   ]
  },
  {
   "cell_type": "raw",
   "id": "f957a8a5",
   "metadata": {},
   "source": [
    "we can find the reason of accident with the help of ploting"
   ]
  },
  {
   "cell_type": "code",
   "execution_count": 12,
   "id": "f332581e",
   "metadata": {},
   "outputs": [
    {
     "data": {
      "text/plain": [
       "Text(0.5, 1.02, 'Count of Accident causes per category')"
      ]
     },
     "execution_count": 12,
     "metadata": {},
     "output_type": "execute_result"
    },
    {
     "data": {
      "image/png": "[encoded data removed]",
      "text/plain": [
       "<Figure size 900x800 with 1 Axes>"
      ]
     },
     "metadata": {},
     "output_type": "display_data"
    }
   ],
   "source": [
    "Road_data['Cause_of_accident'].value_counts().plot(kind =\"barh\", figsize=(9, 8))\n",
    "plt.xlabel(\"Count\", labelpad=15)\n",
    "plt.ylabel(\"Type of Category\",labelpad=18)\n",
    "plt.title(\"Count of Accident causes per category\", y=1.02)"
   ]
  },
  {
   "cell_type": "code",
   "execution_count": 15,
   "id": "4cb3e192",
   "metadata": {},
   "outputs": [
    {
     "data": {
      "text/plain": [
       "Cause_of_accident\n",
       "No distancing                           19.349256\n",
       "Changing lane to the right              14.676359\n",
       "Driving carelessly                      11.664936\n",
       "Changing lane to the left               10.730357\n",
       "No priority to vehicle                   9.588093\n",
       "Moving Backward                          9.276566\n",
       "No priority to pedestrian                5.538249\n",
       "Other                                    3.392177\n",
       "Overtaking                               3.357563\n",
       "Driving under the influence of drugs     3.080651\n",
       "Driving to the left                      2.319142\n",
       "Getting off the vehicle improperly       1.523018\n",
       "Driving at high speed                    1.488404\n",
       "Overturning                              1.488404\n",
       "Turnover                                 0.969193\n",
       "Overspeed                                0.692281\n",
       "Overloading                              0.449983\n",
       "Drunk driving                            0.173070\n",
       "Unknown                                  0.138456\n",
       "Improper parking                         0.103842\n",
       "Name: count, dtype: float64"
      ]
     },
     "execution_count": 15,
     "metadata": {},
     "output_type": "execute_result"
    }
   ],
   "source": [
    "100*Road_data[\"Cause_of_accident\"].value_counts()/len(Road_data[\"Cause_of_accident\"])"
   ]
  },
  {
   "cell_type": "raw",
   "id": "cd131486",
   "metadata": {},
   "source": [
    "as our analysis on cause of accident teh main reason of accident is NO DISTANCING  that means \n",
    "people don't maintain distance while driving and another one is CHANGING LANE TO THE RIGHT \n",
    "there is slighly difference between them\n",
    "\n",
    "Ratio of cause of accident : 1) NO DISTANCING :- 19.34% \n",
    "                             2) CHANGING LANE TO THE RIGHT :- 14.67%\n"
   ]
  },
  {
   "cell_type": "markdown",
   "id": "b6afe41a",
   "metadata": {},
   "source": [
    "probelm statement:- how many people have accident saverity and show them in percentage"
   ]
  },
  {
   "cell_type": "code",
   "execution_count": 16,
   "id": "f5f2a709",
   "metadata": {},
   "outputs": [
    {
     "data": {
      "text/plain": [
       "Accident_severity\n",
       "Slight Injury     2466\n",
       "Serious Injury     392\n",
       "Fatal injury        31\n",
       "Name: count, dtype: int64"
      ]
     },
     "execution_count": 16,
     "metadata": {},
     "output_type": "execute_result"
    }
   ],
   "source": [
    "Road_data[\"Accident_severity\"].value_counts()"
   ]
  },
  {
   "cell_type": "raw",
   "id": "5a797597",
   "metadata": {},
   "source": [
    "checking the unique values to find the percentage"
   ]
  },
  {
   "cell_type": "code",
   "execution_count": 17,
   "id": "e1fabc38",
   "metadata": {},
   "outputs": [
    {
     "data": {
      "text/plain": [
       "array(['Slight Injury', 'Serious Injury', 'Fatal injury'], dtype=object)"
      ]
     },
     "execution_count": 17,
     "metadata": {},
     "output_type": "execute_result"
    }
   ],
   "source": [
    "Road_data[\"Accident_severity\"].unique()"
   ]
  },
  {
   "cell_type": "code",
   "execution_count": 18,
   "id": "67d199a2",
   "metadata": {},
   "outputs": [
    {
     "data": {
      "text/plain": [
       "Accident_severity\n",
       "Slight Injury     85.358255\n",
       "Serious Injury    13.568709\n",
       "Fatal injury       1.073036\n",
       "Name: count, dtype: float64"
      ]
     },
     "execution_count": 18,
     "metadata": {},
     "output_type": "execute_result"
    }
   ],
   "source": [
    "100*Road_data[\"Accident_severity\"].value_counts()/len(Road_data[\"Accident_severity\"])"
   ]
  },
  {
   "cell_type": "markdown",
   "id": "4f0a56be",
   "metadata": {},
   "source": [
    "find the Accident saverity with the help of pie chart"
   ]
  },
  {
   "cell_type": "code",
   "execution_count": 30,
   "id": "3ad4e252",
   "metadata": {},
   "outputs": [
    {
     "data": {
      "image/png": "[encoded data removed]",
      "text/plain": [
       "<Figure size 640x480 with 1 Axes>"
      ]
     },
     "metadata": {},
     "output_type": "display_data"
    }
   ],
   "source": [
    "A=Road_data[\"Accident_severity\"].value_counts()\n",
    "ex = [0.0,0.0,0.2]\n",
    "c = [\"g\",\"r\",\"b\"]\n",
    "plt.pie(A,labels= y,explode = ex,colors = c,autopct = \"%0.0f%%\")\n",
    "plt.show()"
   ]
  },
  {
   "cell_type": "raw",
   "id": "1ef1c0cf",
   "metadata": {},
   "source": [
    "as our anlysis on Accident saverity,  we can see with help of pie char with different colors\n",
    "1) slightly  injury has maximum count for people on Road accident that show in green colors\n",
    "2) another is serious injury that is show in red colour on accident report\n",
    "3) remaing is fatal injury there is only 1% of chances as our report that  means it is very less percentage on Road accident \n",
    "\n",
    "percentage of Accident saverity :-  slight injury=   85% --> green color\n",
    "                                    serious injury = 14% --> red color\n",
    "                                    fatal injury   =  1% --> blue color"
   ]
  },
  {
   "cell_type": "markdown",
   "id": "abfa6cdc",
   "metadata": {},
   "source": [
    "problem statemet:- we have to find the which type of vehicle has maximum accident count and which vehicle is most responcible for accident"
   ]
  },
  {
   "cell_type": "code",
   "execution_count": 30,
   "id": "d8668d31",
   "metadata": {},
   "outputs": [
    {
     "data": {
      "text/plain": [
       "Type_of_vehicle\n",
       "Automobile              798\n",
       "Lorry (41?100Q)         579\n",
       "Other                   297\n",
       "Public (12 seats)       198\n",
       "Pick up upto 10Q        182\n",
       "Stationwagen            178\n",
       "Lorry (11?40Q)          137\n",
       "Public (13?45 seats)    131\n",
       "Public (> 45 seats)     108\n",
       "Long lorry               80\n",
       "Taxi                     72\n",
       "Motorcycle               68\n",
       "Ridden horse             22\n",
       "Special vehicle          16\n",
       "Bajaj                    10\n",
       "Turbo                     8\n",
       "Bicycle                   5\n",
       "Name: count, dtype: int64"
      ]
     },
     "execution_count": 30,
     "metadata": {},
     "output_type": "execute_result"
    }
   ],
   "source": [
    "Road_data[\"Type_of_vehicle\"].value_counts()"
   ]
  },
  {
   "cell_type": "code",
   "execution_count": 24,
   "id": "0685971c",
   "metadata": {},
   "outputs": [
    {
     "data": {
      "text/plain": [
       "Text(0.5, 1.02, 'Type  of vehicles per category')"
      ]
     },
     "execution_count": 24,
     "metadata": {},
     "output_type": "execute_result"
    },
    {
     "data": {
      "image/png": "[encoded data removed]",
      "text/plain": [
       "<Figure size 900x800 with 1 Axes>"
      ]
     },
     "metadata": {},
     "output_type": "display_data"
    }
   ],
   "source": [
    "Road_data['Type_of_vehicle'].value_counts().plot(kind =\"bar\", figsize=(9, 8))\n",
    "plt.xlabel(\"vehicle\", labelpad=15)\n",
    "plt.ylabel(\"count\",labelpad=18)\n",
    "plt.title(\"Type  of vehicles per category\", y=1.02)"
   ]
  },
  {
   "cell_type": "code",
   "execution_count": 28,
   "id": "ad03a662",
   "metadata": {},
   "outputs": [
    {
     "data": {
      "text/plain": [
       "Type_of_vehicle\n",
       "Automobile              27.622015\n",
       "Lorry (41?100Q)         20.041537\n",
       "Other                   10.280374\n",
       "Public (12 seats)        6.853583\n",
       "Pick up upto 10Q         6.299758\n",
       "Stationwagen             6.161301\n",
       "Lorry (11?40Q)           4.742125\n",
       "Public (13?45 seats)     4.534441\n",
       "Public (> 45 seats)      3.738318\n",
       "Long lorry               2.769124\n",
       "Taxi                     2.492212\n",
       "Motorcycle               2.353756\n",
       "Ridden horse             0.761509\n",
       "Special vehicle          0.553825\n",
       "Bajaj                    0.346141\n",
       "Turbo                    0.276912\n",
       "Bicycle                  0.173070\n",
       "Name: count, dtype: float64"
      ]
     },
     "execution_count": 28,
     "metadata": {},
     "output_type": "execute_result"
    }
   ],
   "source": [
    "100*Road_data[\"Type_of_vehicle\"].value_counts()/len(Road_data[\"Type_of_vehicle\"])"
   ]
  },
  {
   "cell_type": "raw",
   "id": "e87c40f5",
   "metadata": {},
   "source": [
    "as our analysis for type of vehicle is mostly responciple and acive type is AUTOMOBILE which has also maximum\n",
    "accident count for accidents and another type is LORRY which also active on accidents\n",
    "But Automobile vehicle has maximum count as compred to Lorry\n",
    "1) ratio of Automobile :- 27.62%\n",
    "2) ratio of Lorry :- 20.04%\n",
    "3) bicycle is very less count of accident and raio is 0.17%    "
   ]
  },
  {
   "cell_type": "markdown",
   "id": "04c86571",
   "metadata": {},
   "source": [
    "problem statement :- we have check what is count of weekly accident and which day has less count of accident"
   ]
  },
  {
   "cell_type": "code",
   "execution_count": 29,
   "id": "5f0633df",
   "metadata": {},
   "outputs": [
    {
     "data": {
      "text/plain": [
       "array(['Friday', 'Thursday', 'Tuesday', 'Wednesday', 'Saturday', 'Sunday',\n",
       "       'Monday'], dtype=object)"
      ]
     },
     "execution_count": 29,
     "metadata": {},
     "output_type": "execute_result"
    }
   ],
   "source": [
    "Road_data[\"Day_of_week\"].unique()\n"
   ]
  },
  {
   "cell_type": "code",
   "execution_count": null,
   "id": "9ccac282",
   "metadata": {},
   "outputs": [],
   "source": []
  },
  {
   "cell_type": "raw",
   "id": "baf6b6b8",
   "metadata": {},
   "source": [
    "cheking the value count on day of week"
   ]
  },
  {
   "cell_type": "code",
   "execution_count": 32,
   "id": "1951c961",
   "metadata": {},
   "outputs": [
    {
     "data": {
      "text/plain": [
       "Day_of_week\n",
       "Friday       476\n",
       "Thursday     443\n",
       "Saturday     439\n",
       "Tuesday      414\n",
       "Wednesday    399\n",
       "Monday       385\n",
       "Sunday       333\n",
       "Name: count, dtype: int64"
      ]
     },
     "execution_count": 32,
     "metadata": {},
     "output_type": "execute_result"
    }
   ],
   "source": [
    "Road_data[\"Day_of_week\"].value_counts()"
   ]
  },
  {
   "cell_type": "markdown",
   "id": "fa1e9bde",
   "metadata": {},
   "source": [
    "WE CAN FIND THE WEEKLY ACCIENT WITH THE HELP OF PLOTTING"
   ]
  },
  {
   "cell_type": "code",
   "execution_count": 27,
   "id": "6501b729",
   "metadata": {},
   "outputs": [
    {
     "data": {
      "image/png": "[encoded data removed]",
      "text/plain": [
       "<Figure size 640x480 with 1 Axes>"
      ]
     },
     "metadata": {},
     "output_type": "display_data"
    }
   ],
   "source": [
    "sns.countplot(x= Road_data[\"Day_of_week\"])\n",
    "plt.show()\n"
   ]
  },
  {
   "cell_type": "code",
   "execution_count": 33,
   "id": "04d10575",
   "metadata": {},
   "outputs": [
    {
     "data": {
      "text/plain": [
       "Day_of_week\n",
       "Friday       16.476289\n",
       "Thursday     15.334026\n",
       "Saturday     15.195569\n",
       "Tuesday      14.330218\n",
       "Wednesday    13.811007\n",
       "Monday       13.326411\n",
       "Sunday       11.526480\n",
       "Name: count, dtype: float64"
      ]
     },
     "execution_count": 33,
     "metadata": {},
     "output_type": "execute_result"
    }
   ],
   "source": [
    "100*Road_data[\"Day_of_week\"].value_counts()/len(Road_data[\"Day_of_week\"])"
   ]
  },
  {
   "cell_type": "raw",
   "id": "3cd525f9",
   "metadata": {},
   "source": [
    "1)As our analysis on weekly accidnet occured is friday is the maximum count accidnet occured day\n",
    "2)there is same count of weekly accident on THURSDAY AND SATURDAY\n",
    "3)Sunday is the very less count of weekly accident as per above report\n",
    "4)ratio of sunday:- 11.52 %"
   ]
  }
 ],
 "metadata": {
  "kernelspec": {
   "display_name": "Python 3 (ipykernel)",
   "language": "python",
   "name": "python3"
  },
  "language_info": {
   "codemirror_mode": {
    "name": "ipython",
    "version": 3
   },
   "file_extension": ".py",
   "mimetype": "text/x-python",
   "name": "python",
   "nbconvert_exporter": "python",
   "pygments_lexer": "ipython3",
   "version": "3.11.5"
  }
 },
 "nbformat": 4,
 "nbformat_minor": 5
}
